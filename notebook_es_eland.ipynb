{
 "cells": [
  {
   "cell_type": "code",
   "execution_count": 14,
   "metadata": {},
   "outputs": [],
   "source": [
    "# import eland official API\n",
    "# check it on https://github.com/elastic/eland\n",
    "import eland as ed\n",
    "\n",
    "# other imports\n",
    "import pandas as pd\n",
    "import numpy as np\n",
    "import matplotlib.pyplot as plt\n",
    "\n",
    "# import elasticsearch-py client\n",
    "from elasticsearch import Elasticsearch\n",
    "\n",
    "# Function for pretty-printing JSON\n",
    "def json(raw):\n",
    "    import json\n",
    "    print(json.dumps(raw, indent=2, sort_keys=True))"
   ]
  },
  {
   "cell_type": "code",
   "execution_count": 17,
   "metadata": {},
   "outputs": [],
   "source": [
    "# Connect to an Elasticsearch instance\n",
    "# here we use the official Elastic Python client\n",
    "# check it on https://github.com/elastic/elasticsearch-py\n",
    "es = Elasticsearch(\n",
    "  ['http://localhost:9200'],\n",
    "  http_auth=(\"es_kbn\", \"changeme\")\n",
    ")"
   ]
  },
  {
   "cell_type": "code",
   "execution_count": 18,
   "metadata": {},
   "outputs": [
    {
     "name": "stdout",
     "output_type": "stream",
     "text": [
      "{\n",
      "  \"cluster_name\": \"churn\",\n",
      "  \"cluster_uuid\": \"K3nB4fp_QcyjpY-e2XVUbA\",\n",
      "  \"name\": \"node-01\",\n",
      "  \"tagline\": \"You Know, for Search\",\n",
      "  \"version\": {\n",
      "    \"build_date\": \"2020-07-22T19:31:37.655268Z\",\n",
      "    \"build_flavor\": \"default\",\n",
      "    \"build_hash\": \"bbbd2282a6668869c41efc5713ad8214d44c0ad1\",\n",
      "    \"build_snapshot\": true,\n",
      "    \"build_type\": \"zip\",\n",
      "    \"lucene_version\": \"8.6.0\",\n",
      "    \"minimum_index_compatibility_version\": \"7.0.0\",\n",
      "    \"minimum_wire_compatibility_version\": \"7.10.0\",\n",
      "    \"number\": \"8.0.0-SNAPSHOT\"\n",
      "  }\n",
      "}\n"
     ]
    }
   ],
   "source": [
    "# print the connection object info (same as visiting http://localhost:9200)\n",
    "# make sure your elasticsearch node/cluster respond to requests\n",
    "json(es.info())"
   ]
  },
  {
   "cell_type": "code",
   "execution_count": 23,
   "metadata": {},
   "outputs": [
    {
     "name": "stdout",
     "output_type": "stream",
     "text": [
      "<class 'pandas.core.frame.DataFrame'>\n",
      "Int64Index: 3333 entries, 0 to 3332\n",
      "Data columns (total 9 columns):\n",
      " #   Column                  Non-Null Count  Dtype \n",
      "---  ------                  --------------  ----- \n",
      " 0   record_id               3333 non-null   int64 \n",
      " 1   state                   3333 non-null   object\n",
      " 2   account_length          3333 non-null   int64 \n",
      " 3   phone_number            3333 non-null   object\n",
      " 4   international_plan      3333 non-null   object\n",
      " 5   voice_mail_plan         3333 non-null   object\n",
      " 6   number_vmail_messages   3333 non-null   int64 \n",
      " 7   customer_service_calls  3333 non-null   int64 \n",
      " 8   churn                   3333 non-null   int64 \n",
      "dtypes: int64(5), object(4)\n",
      "memory usage: 260.4+ KB\n"
     ]
    }
   ],
   "source": [
    "# Load the dataset from the local csv file of call logs\n",
    "pd_df = pd.read_csv(\"./Desktop/telcos-ecs/churn/customers.csv\").dropna()\n",
    "pd_df.info()"
   ]
  },
  {
   "cell_type": "code",
   "execution_count": 25,
   "metadata": {},
   "outputs": [
    {
     "name": "stdout",
     "output_type": "stream",
     "text": [
      "<class 'eland.dataframe.DataFrame'>\n",
      "Index: 3333 entries, 0 to 3332\n",
      "Data columns (total 9 columns):\n",
      " #   Column                  Non-Null Count  Dtype \n",
      "---  ------                  --------------  ----- \n",
      " 0   account_length          3333 non-null   int64 \n",
      " 1   churn                   3333 non-null   int64 \n",
      " 2   customer_service_calls  3333 non-null   int64 \n",
      " 3   international_plan      3333 non-null   object\n",
      " 4   number_vmail_messages   3333 non-null   int64 \n",
      " 5   phone_number            3333 non-null   object\n",
      " 6   record_id               3333 non-null   object\n",
      " 7   state                   3333 non-null   object\n",
      " 8   voice_mail_plan         3333 non-null   object\n",
      "dtypes: int64(4), object(5)\n",
      "memory usage: 64.0 bytes\n"
     ]
    }
   ],
   "source": [
    "# Load the data into elasticsearch\n",
    "df = ed.pandas_to_eland(\n",
    "    pd_df=pd_df,\n",
    "    es_client=es,\n",
    "\n",
    "    # Where the data will live in Elasticsearch\n",
    "    es_dest_index=\"es-customers\",\n",
    "\n",
    "    # Type overrides for certain columns, this can be used to customize index mapping before ingest\n",
    "    es_type_overrides={\n",
    "        \"record_id\": \"keyword\",\n",
    "        \"state\": \"keyword\",\n",
    "        \"account_length\": \"short\",\n",
    "        \"phone_number\": \"keyword\",\n",
    "        \"international_plan\": \"keyword\",\n",
    "        \"voice_mail_plan\": \"keyword\",\n",
    "        \"number_vmail_messages\": \"short\",\n",
    "        \"customer_service_calls\": \"short\",\n",
    "        \"churn\": \"short\"\n",
    "    },\n",
    "\n",
    "    # If the index already exists what should we do?\n",
    "    es_if_exists=\"replace\",\n",
    "\n",
    "    # Wait for data to be indexed before returning\n",
    "    es_refresh=True,\n",
    ")\n",
    "df.info()"
   ]
  },
  {
   "cell_type": "code",
   "execution_count": 26,
   "metadata": {},
   "outputs": [
    {
     "name": "stdout",
     "output_type": "stream",
     "text": [
      "{\n",
      "  \"es-customers\": {\n",
      "    \"mappings\": {\n",
      "      \"properties\": {\n",
      "        \"account_length\": {\n",
      "          \"type\": \"short\"\n",
      "        },\n",
      "        \"churn\": {\n",
      "          \"type\": \"short\"\n",
      "        },\n",
      "        \"customer_service_calls\": {\n",
      "          \"type\": \"short\"\n",
      "        },\n",
      "        \"international_plan\": {\n",
      "          \"type\": \"keyword\"\n",
      "        },\n",
      "        \"number_vmail_messages\": {\n",
      "          \"type\": \"short\"\n",
      "        },\n",
      "        \"phone_number\": {\n",
      "          \"type\": \"keyword\"\n",
      "        },\n",
      "        \"record_id\": {\n",
      "          \"type\": \"keyword\"\n",
      "        },\n",
      "        \"state\": {\n",
      "          \"type\": \"keyword\"\n",
      "        },\n",
      "        \"voice_mail_plan\": {\n",
      "          \"type\": \"keyword\"\n",
      "        }\n",
      "      }\n",
      "    }\n",
      "  }\n",
      "}\n"
     ]
    }
   ],
   "source": [
    "json(es.indices.get_mapping(index=\"es-customers\"))"
   ]
  },
  {
   "cell_type": "code",
   "execution_count": 27,
   "metadata": {},
   "outputs": [
    {
     "data": {
      "text/plain": [
       "(3333, 9)"
      ]
     },
     "execution_count": 27,
     "metadata": {},
     "output_type": "execute_result"
    }
   ],
   "source": [
    "# Shape is determined by using count API\n",
    "df.shape"
   ]
  },
  {
   "cell_type": "code",
   "execution_count": null,
   "metadata": {},
   "outputs": [],
   "source": [
    "ed_customers = ed.read_es('es_kbn:es_kbn@localhost:9200', 'customers')"
   ]
  },
  {
   "cell_type": "code",
   "execution_count": 37,
   "metadata": {},
   "outputs": [
    {
     "name": "stdout",
     "output_type": "stream",
     "text": [
      "es_index_pattern: es-customers\n",
      "Index:\n",
      " es_index_field: _id\n",
      " is_source_field: False\n",
      "Mappings:\n",
      " capabilities:\n",
      "                                 es_field_name  is_source es_dtype es_date_format pd_dtype  is_searchable  is_aggregatable  is_scripted aggregatable_es_field_name\n",
      "account_length                  account_length       True    short           None    int64           True             True        False             account_length\n",
      "churn                                    churn       True    short           None    int64           True             True        False                      churn\n",
      "customer_service_calls  customer_service_calls       True    short           None    int64           True             True        False     customer_service_calls\n",
      "international_plan          international_plan       True  keyword           None   object           True             True        False         international_plan\n",
      "number_vmail_messages    number_vmail_messages       True    short           None    int64           True             True        False      number_vmail_messages\n",
      "phone_number                      phone_number       True  keyword           None   object           True             True        False               phone_number\n",
      "record_id                            record_id       True  keyword           None   object           True             True        False                  record_id\n",
      "state                                    state       True  keyword           None   object           True             True        False                      state\n",
      "voice_mail_plan                voice_mail_plan       True  keyword           None   object           True             True        False            voice_mail_plan\n",
      "Operations:\n",
      " tasks: [('boolean_filter': ('boolean_filter': {'terms': {'churn': ['1', '0']}}))]\n",
      " size: None\n",
      " sort_params: None\n",
      " _source: ['account_length', 'churn', 'customer_service_calls', 'international_plan', 'number_vmail_messages', 'phone_number', 'record_id', 'state', 'voice_mail_plan']\n",
      " body: {'query': {'terms': {'churn': ['1', '0']}}}\n",
      " post_processing: []\n",
      "\n"
     ]
    }
   ],
   "source": [
    "# DataFrame has many APIs compatible with Pandas\n",
    "\n",
    "#df.head(10)\n",
    "#df.columns\n",
    "#df.phone_number\n",
    "#df[\"churn\"]\n",
    "#df[df.churn.isin([\"1\", \"0\"])]\n",
    "print(df[df.churn.isin([\"1\", \"0\"])].es_info())\n",
    "#print(df.tail(10).es_info())"
   ]
  },
  {
   "cell_type": "code",
   "execution_count": 38,
   "metadata": {},
   "outputs": [
    {
     "data": {
      "text/html": [
       "<div>\n",
       "<style scoped>\n",
       "    .dataframe tbody tr th:only-of-type {\n",
       "        vertical-align: middle;\n",
       "    }\n",
       "\n",
       "    .dataframe tbody tr th {\n",
       "        vertical-align: top;\n",
       "    }\n",
       "\n",
       "    .dataframe thead th {\n",
       "        text-align: right;\n",
       "    }\n",
       "</style>\n",
       "<table border=\"1\" class=\"dataframe\">\n",
       "  <thead>\n",
       "    <tr style=\"text-align: right;\">\n",
       "      <th></th>\n",
       "      <th>account_length</th>\n",
       "      <th>churn</th>\n",
       "      <th>customer_service_calls</th>\n",
       "      <th>number_vmail_messages</th>\n",
       "    </tr>\n",
       "  </thead>\n",
       "  <tbody>\n",
       "    <tr>\n",
       "      <th>count</th>\n",
       "      <td>3333.000000</td>\n",
       "      <td>3333.000000</td>\n",
       "      <td>3333.000000</td>\n",
       "      <td>3333.000000</td>\n",
       "    </tr>\n",
       "    <tr>\n",
       "      <th>mean</th>\n",
       "      <td>101.064806</td>\n",
       "      <td>0.144914</td>\n",
       "      <td>1.562856</td>\n",
       "      <td>8.099010</td>\n",
       "    </tr>\n",
       "    <tr>\n",
       "      <th>std</th>\n",
       "      <td>39.816132</td>\n",
       "      <td>0.352015</td>\n",
       "      <td>1.315294</td>\n",
       "      <td>13.686312</td>\n",
       "    </tr>\n",
       "    <tr>\n",
       "      <th>min</th>\n",
       "      <td>1.000000</td>\n",
       "      <td>0.000000</td>\n",
       "      <td>0.000000</td>\n",
       "      <td>0.000000</td>\n",
       "    </tr>\n",
       "    <tr>\n",
       "      <th>25%</th>\n",
       "      <td>74.000000</td>\n",
       "      <td>0.000000</td>\n",
       "      <td>1.000000</td>\n",
       "      <td>0.000000</td>\n",
       "    </tr>\n",
       "    <tr>\n",
       "      <th>50%</th>\n",
       "      <td>100.257143</td>\n",
       "      <td>0.000000</td>\n",
       "      <td>1.000000</td>\n",
       "      <td>0.000000</td>\n",
       "    </tr>\n",
       "    <tr>\n",
       "      <th>75%</th>\n",
       "      <td>127.180000</td>\n",
       "      <td>0.000000</td>\n",
       "      <td>2.000000</td>\n",
       "      <td>19.545455</td>\n",
       "    </tr>\n",
       "    <tr>\n",
       "      <th>max</th>\n",
       "      <td>243.000000</td>\n",
       "      <td>1.000000</td>\n",
       "      <td>9.000000</td>\n",
       "      <td>51.000000</td>\n",
       "    </tr>\n",
       "  </tbody>\n",
       "</table>\n",
       "</div>"
      ],
      "text/plain": [
       "       account_length        churn  customer_service_calls  \\\n",
       "count     3333.000000  3333.000000             3333.000000   \n",
       "mean       101.064806     0.144914                1.562856   \n",
       "std         39.816132     0.352015                1.315294   \n",
       "min          1.000000     0.000000                0.000000   \n",
       "25%         74.000000     0.000000                1.000000   \n",
       "50%        100.257143     0.000000                1.000000   \n",
       "75%        127.180000     0.000000                2.000000   \n",
       "max        243.000000     1.000000                9.000000   \n",
       "\n",
       "       number_vmail_messages  \n",
       "count            3333.000000  \n",
       "mean                8.099010  \n",
       "std                13.686312  \n",
       "min                 0.000000  \n",
       "25%                 0.000000  \n",
       "50%                 0.000000  \n",
       "75%                19.545455  \n",
       "max                51.000000  "
      ]
     },
     "execution_count": 38,
     "metadata": {},
     "output_type": "execute_result"
    }
   ],
   "source": [
    "# Aggregating values\n",
    "df.describe()"
   ]
  },
  {
   "cell_type": "code",
   "execution_count": 41,
   "metadata": {},
   "outputs": [
    {
     "data": {
      "image/png": "[encoded data removed]",
      "text/plain": [
       "<Figure size 720x720 with 1 Axes>"
      ]
     },
     "metadata": {
      "needs_background": "light"
     },
     "output_type": "display_data"
    }
   ],
   "source": [
    "# Plotting with matplotlib\n",
    "from matplotlib import pyplot as plt\n",
    "\n",
    "df[[\"customer_service_calls\"]].hist(figsize=[10,10])\n",
    "plt.show()"
   ]
  },
  {
   "cell_type": "code",
   "execution_count": 47,
   "metadata": {},
   "outputs": [
    {
     "data": {
      "text/html": [
       "<div>\n",
       "<style scoped>\n",
       "    .dataframe tbody tr th:only-of-type {\n",
       "        vertical-align: middle;\n",
       "    }\n",
       "\n",
       "    .dataframe tbody tr th {\n",
       "        vertical-align: top;\n",
       "    }\n",
       "\n",
       "    .dataframe thead th {\n",
       "        text-align: right;\n",
       "    }\n",
       "</style>\n",
       "<table border=\"1\" class=\"dataframe\">\n",
       "  <thead>\n",
       "    <tr style=\"text-align: right;\">\n",
       "      <th></th>\n",
       "      <th>account_length</th>\n",
       "      <th>churn</th>\n",
       "      <th>customer_service_calls</th>\n",
       "      <th>international_plan</th>\n",
       "      <th>number_vmail_messages</th>\n",
       "      <th>phone_number</th>\n",
       "      <th>record_id</th>\n",
       "      <th>state</th>\n",
       "      <th>voice_mail_plan</th>\n",
       "    </tr>\n",
       "  </thead>\n",
       "  <tbody>\n",
       "    <tr>\n",
       "      <th>542</th>\n",
       "      <td>152</td>\n",
       "      <td>1</td>\n",
       "      <td>9</td>\n",
       "      <td>yes</td>\n",
       "      <td>20</td>\n",
       "      <td>415-416-2778</td>\n",
       "      <td>542</td>\n",
       "      <td>MN</td>\n",
       "      <td>yes</td>\n",
       "    </tr>\n",
       "    <tr>\n",
       "      <th>1502</th>\n",
       "      <td>64</td>\n",
       "      <td>0</td>\n",
       "      <td>8</td>\n",
       "      <td>no</td>\n",
       "      <td>40</td>\n",
       "      <td>510-333-8822</td>\n",
       "      <td>1502</td>\n",
       "      <td>SC</td>\n",
       "      <td>yes</td>\n",
       "    </tr>\n",
       "    <tr>\n",
       "      <th>1912</th>\n",
       "      <td>103</td>\n",
       "      <td>1</td>\n",
       "      <td>8</td>\n",
       "      <td>no</td>\n",
       "      <td>0</td>\n",
       "      <td>408-371-1727</td>\n",
       "      <td>1912</td>\n",
       "      <td>NH</td>\n",
       "      <td>no</td>\n",
       "    </tr>\n",
       "    <tr>\n",
       "      <th>2380</th>\n",
       "      <td>53</td>\n",
       "      <td>1</td>\n",
       "      <td>9</td>\n",
       "      <td>no</td>\n",
       "      <td>0</td>\n",
       "      <td>408-416-6886</td>\n",
       "      <td>2380</td>\n",
       "      <td>NJ</td>\n",
       "      <td>no</td>\n",
       "    </tr>\n",
       "  </tbody>\n",
       "</table>\n",
       "</div>\n",
       "<p>4 rows × 9 columns</p>"
      ],
      "text/plain": [
       "      account_length  churn  customer_service_calls international_plan  \\\n",
       "542              152      1                       9                yes   \n",
       "1502              64      0                       8                 no   \n",
       "1912             103      1                       8                 no   \n",
       "2380              53      1                       9                 no   \n",
       "\n",
       "      number_vmail_messages  phone_number  record_id state voice_mail_plan  \n",
       "542                      20  415-416-2778        542    MN             yes  \n",
       "1502                     40  510-333-8822       1502    SC             yes  \n",
       "1912                      0  408-371-1727       1912    NH              no  \n",
       "2380                      0  408-416-6886       2380    NJ              no  \n",
       "\n",
       "[4 rows x 9 columns]"
      ]
     },
     "execution_count": 47,
     "metadata": {},
     "output_type": "execute_result"
    }
   ],
   "source": [
    "# es_query() allows for the full Elasticsearch querying capabilities\n",
    "df.es_query({\n",
    "  \"range\": {\n",
    "    \"customer_service_calls\": {\n",
    "      \"gte\": 8,\n",
    "      \"lte\": 10\n",
    "    }\n",
    "  }\n",
    "})"
   ]
  },
  {
   "cell_type": "code",
   "execution_count": 48,
   "metadata": {},
   "outputs": [
    {
     "name": "stdout",
     "output_type": "stream",
     "text": [
      "<class 'pandas.core.frame.DataFrame'>\n",
      "Index: 100 entries, 1038 to 985\n",
      "Data columns (total 9 columns):\n",
      " #   Column                  Non-Null Count  Dtype \n",
      "---  ------                  --------------  ----- \n",
      " 0   account_length          100 non-null    int64 \n",
      " 1   churn                   100 non-null    int64 \n",
      " 2   customer_service_calls  100 non-null    int64 \n",
      " 3   international_plan      100 non-null    object\n",
      " 4   number_vmail_messages   100 non-null    int64 \n",
      " 5   phone_number            100 non-null    object\n",
      " 6   record_id               100 non-null    int64 \n",
      " 7   state                   100 non-null    object\n",
      " 8   voice_mail_plan         100 non-null    object\n",
      "dtypes: int64(5), object(4)\n",
      "memory usage: 7.8+ KB\n",
      "<class 'pandas.core.frame.DataFrame'>\n"
     ]
    }
   ],
   "source": [
    "# Pull a subset of your data for building graphs / operations locally.\n",
    "sample_df = df[df.churn == \"1\"].sample(100).to_pandas()\n",
    "sample_df.info()\n",
    "print(type(sample_df))"
   ]
  },
  {
   "cell_type": "code",
   "execution_count": 49,
   "metadata": {},
   "outputs": [
    {
     "data": {
      "image/png": "[encoded data removed]",
      "text/plain": [
       "<Figure size 720x720 with 4 Axes>"
      ]
     },
     "metadata": {
      "needs_background": "light"
     },
     "output_type": "display_data"
    }
   ],
   "source": [
    "df.select_dtypes(include=np.number).hist(figsize=[10,10])\n",
    "plt.show()"
   ]
  },
  {
   "cell_type": "code",
   "execution_count": null,
   "metadata": {},
   "outputs": [],
   "source": []
  }
 ],
 "metadata": {
  "kernelspec": {
   "display_name": "Python 3",
   "language": "python",
   "name": "python3"
  },
  "language_info": {
   "codemirror_mode": {
    "name": "ipython",
    "version": 3
   },
   "file_extension": ".py",
   "mimetype": "text/x-python",
   "name": "python",
   "nbconvert_exporter": "python",
   "pygments_lexer": "ipython3",
   "version": "3.8.2"
  }
 },
 "nbformat": 4,
 "nbformat_minor": 4
}
